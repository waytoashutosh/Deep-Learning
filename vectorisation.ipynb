{
 "cells": [
  {
   "cell_type": "code",
   "execution_count": 2,
   "metadata": {},
   "outputs": [
    {
     "name": "stdout",
     "output_type": "stream",
     "text": [
      "[1 2 3 4 5]\n"
     ]
    }
   ],
   "source": [
    "import numpy as np\n",
    "\n",
    "a = np.array([1,2,3,4,5])\n",
    "print(a)"
   ]
  },
  {
   "cell_type": "code",
   "execution_count": 16,
   "metadata": {},
   "outputs": [
    {
     "name": "stdout",
     "output_type": "stream",
     "text": [
      "d = 249932.10438785172\n",
      "\n",
      "Vectorised multiplication version takes : 1.2445449829101562ms\n",
      "\n",
      "d = 249932.10438785824\n",
      "\n",
      "Explicit for looop implementation version : 552.3955821990967ms\n"
     ]
    }
   ],
   "source": [
    "import time\n",
    "\n",
    "b = np.random.rand(1000000)\n",
    "c = np.random.rand(1000000)\n",
    "\n",
    "start = time.time()\n",
    "d = np.dot(b,c)\n",
    "end = time.time()\n",
    "\n",
    "print(\"d = \"+ str(d))\n",
    "print(\"\\nVectorised multiplication version takes : \" + str(1000*(end-start))+\"ms\")\n",
    "\n",
    "d = 0\n",
    "\n",
    "#implementation using for loops explicit\n",
    "\n",
    "start = time.time()\n",
    "for i in range (1000000):\n",
    "    d += b[i]*c[i]\n",
    "end = time.time()\n",
    "\n",
    "print(\"\\nd = \"+str(d))\n",
    "print(\"\\nExplicit for looop implementation version : \" + str(1000*(end-start))+ \"ms\")\n"
   ]
  },
  {
   "cell_type": "code",
   "execution_count": null,
   "metadata": {},
   "outputs": [],
   "source": []
  },
  {
   "cell_type": "code",
   "execution_count": null,
   "metadata": {},
   "outputs": [],
   "source": []
  },
  {
   "cell_type": "code",
   "execution_count": 18,
   "metadata": {},
   "outputs": [
    {
     "name": "stdout",
     "output_type": "stream",
     "text": [
      "[2.65919839 1.56390682 1.98932533 ... 1.12438736 1.30520967 2.3983911 ]\n"
     ]
    }
   ],
   "source": [
    "#now suppose you want to do elementwise exponentiation of vectors i.e e^element\n",
    "x = np.random.rand(10000)\n",
    "y = np.exp(x)\n",
    "print(y)\n",
    "#similarly other operations like log can be performed efficiently (use vectorisation as often as possible)"
   ]
  },
  {
   "cell_type": "code",
   "execution_count": null,
   "metadata": {},
   "outputs": [],
   "source": []
  }
 ],
 "metadata": {
  "kernelspec": {
   "display_name": "coursera",
   "language": "python",
   "name": "coursera"
  },
  "language_info": {
   "codemirror_mode": {
    "name": "ipython",
    "version": 3
   },
   "file_extension": ".py",
   "mimetype": "text/x-python",
   "name": "python",
   "nbconvert_exporter": "python",
   "pygments_lexer": "ipython3",
   "version": "3.8.2"
  }
 },
 "nbformat": 4,
 "nbformat_minor": 4
}
